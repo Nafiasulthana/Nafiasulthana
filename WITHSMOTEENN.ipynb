{
  "nbformat": 4,
  "nbformat_minor": 0,
  "metadata": {
    "colab": {
      "provenance": [],
      "gpuType": "V28",
      "toc_visible": true,
      "authorship_tag": "ABX9TyOpVWdhxfxTL598UA7KPw05",
      "include_colab_link": true
    },
    "kernelspec": {
      "name": "python3",
      "display_name": "Python 3"
    },
    "language_info": {
      "name": "python"
    },
    "accelerator": "TPU"
  },
  "cells": [
    {
      "cell_type": "markdown",
      "metadata": {
        "id": "view-in-github",
        "colab_type": "text"
      },
      "source": [
        "<a href=\"https://colab.research.google.com/github/Nafiasulthana/Nafiasulthana/blob/main/WITHSMOTEENN.ipynb\" target=\"_parent\"><img src=\"https://colab.research.google.com/assets/colab-badge.svg\" alt=\"Open In Colab\"/></a>"
      ]
    },
    {
      "cell_type": "code",
      "execution_count": 4,
      "metadata": {
        "id": "BCAgzmrZUHPv",
        "colab": {
          "base_uri": "https://localhost:8080/"
        },
        "outputId": "366a1966-a5d6-4372-f48b-c7b775517b60"
      },
      "outputs": [
        {
          "output_type": "stream",
          "name": "stdout",
          "text": [
            "Requirement already satisfied: shap in /usr/local/lib/python3.11/dist-packages (0.47.2)\n",
            "Requirement already satisfied: numpy in /usr/local/lib/python3.11/dist-packages (from shap) (2.0.2)\n",
            "Requirement already satisfied: scipy in /usr/local/lib/python3.11/dist-packages (from shap) (1.15.3)\n",
            "Requirement already satisfied: scikit-learn in /usr/local/lib/python3.11/dist-packages (from shap) (1.6.1)\n",
            "Requirement already satisfied: pandas in /usr/local/lib/python3.11/dist-packages (from shap) (2.2.2)\n",
            "Requirement already satisfied: tqdm>=4.27.0 in /usr/local/lib/python3.11/dist-packages (from shap) (4.67.1)\n",
            "Requirement already satisfied: packaging>20.9 in /usr/local/lib/python3.11/dist-packages (from shap) (25.0)\n",
            "Requirement already satisfied: slicer==0.0.8 in /usr/local/lib/python3.11/dist-packages (from shap) (0.0.8)\n",
            "Requirement already satisfied: numba>=0.54 in /usr/local/lib/python3.11/dist-packages (from shap) (0.61.2)\n",
            "Requirement already satisfied: cloudpickle in /usr/local/lib/python3.11/dist-packages (from shap) (3.1.1)\n",
            "Requirement already satisfied: typing-extensions in /usr/local/lib/python3.11/dist-packages (from shap) (4.13.2)\n",
            "Requirement already satisfied: llvmlite<0.45,>=0.44.0dev0 in /usr/local/lib/python3.11/dist-packages (from numba>=0.54->shap) (0.44.0)\n",
            "Requirement already satisfied: python-dateutil>=2.8.2 in /usr/local/lib/python3.11/dist-packages (from pandas->shap) (2.9.0.post0)\n",
            "Requirement already satisfied: pytz>=2020.1 in /usr/local/lib/python3.11/dist-packages (from pandas->shap) (2025.2)\n",
            "Requirement already satisfied: tzdata>=2022.7 in /usr/local/lib/python3.11/dist-packages (from pandas->shap) (2025.2)\n",
            "Requirement already satisfied: joblib>=1.2.0 in /usr/local/lib/python3.11/dist-packages (from scikit-learn->shap) (1.5.0)\n",
            "Requirement already satisfied: threadpoolctl>=3.1.0 in /usr/local/lib/python3.11/dist-packages (from scikit-learn->shap) (3.6.0)\n",
            "Requirement already satisfied: six>=1.5 in /usr/local/lib/python3.11/dist-packages (from python-dateutil>=2.8.2->pandas->shap) (1.17.0)\n",
            "Requirement already satisfied: imbalanced-learn in /usr/local/lib/python3.11/dist-packages (0.13.0)\n",
            "Requirement already satisfied: numpy<3,>=1.24.3 in /usr/local/lib/python3.11/dist-packages (from imbalanced-learn) (2.0.2)\n",
            "Requirement already satisfied: scipy<2,>=1.10.1 in /usr/local/lib/python3.11/dist-packages (from imbalanced-learn) (1.15.3)\n",
            "Requirement already satisfied: scikit-learn<2,>=1.3.2 in /usr/local/lib/python3.11/dist-packages (from imbalanced-learn) (1.6.1)\n",
            "Requirement already satisfied: sklearn-compat<1,>=0.1 in /usr/local/lib/python3.11/dist-packages (from imbalanced-learn) (0.1.3)\n",
            "Requirement already satisfied: joblib<2,>=1.1.1 in /usr/local/lib/python3.11/dist-packages (from imbalanced-learn) (1.5.0)\n",
            "Requirement already satisfied: threadpoolctl<4,>=2.0.0 in /usr/local/lib/python3.11/dist-packages (from imbalanced-learn) (3.6.0)\n",
            "Collecting xgboost\n",
            "  Downloading xgboost-3.0.1-py3-none-manylinux_2_28_x86_64.whl.metadata (2.1 kB)\n",
            "Requirement already satisfied: numpy in /usr/local/lib/python3.11/dist-packages (from xgboost) (2.0.2)\n",
            "Collecting nvidia-nccl-cu12 (from xgboost)\n",
            "  Downloading nvidia_nccl_cu12-2.26.5-py3-none-manylinux2014_x86_64.manylinux_2_17_x86_64.whl.metadata (2.0 kB)\n",
            "Requirement already satisfied: scipy in /usr/local/lib/python3.11/dist-packages (from xgboost) (1.15.3)\n",
            "Downloading xgboost-3.0.1-py3-none-manylinux_2_28_x86_64.whl (253.9 MB)\n",
            "\u001b[2K   \u001b[90m━━━━━━━━━━━━━━━━━━━━━━━━━━━━━━━━━━━━━━━━\u001b[0m \u001b[32m253.9/253.9 MB\u001b[0m \u001b[31m4.3 MB/s\u001b[0m eta \u001b[36m0:00:00\u001b[0m\n",
            "\u001b[?25hDownloading nvidia_nccl_cu12-2.26.5-py3-none-manylinux2014_x86_64.manylinux_2_17_x86_64.whl (318.1 MB)\n",
            "\u001b[2K   \u001b[90m━━━━━━━━━━━━━━━━━━━━━━━━━━━━━━━━━━━━━━━━\u001b[0m \u001b[32m318.1/318.1 MB\u001b[0m \u001b[31m3.4 MB/s\u001b[0m eta \u001b[36m0:00:00\u001b[0m\n",
            "\u001b[?25hInstalling collected packages: nvidia-nccl-cu12, xgboost\n",
            "Successfully installed nvidia-nccl-cu12-2.26.5 xgboost-3.0.1\n"
          ]
        }
      ],
      "source": [
        "!pip install shap\n",
        "!pip install imbalanced-learn\n",
        "!pip install xgboost\n",
        "import shap\n",
        "import numpy as np\n",
        "import pandas as pd\n",
        "from sklearn.model_selection import train_test_split, RandomizedSearchCV\n",
        "from sklearn.preprocessing import OneHotEncoder, StandardScaler\n",
        "from sklearn.compose import ColumnTransformer\n",
        "from sklearn.pipeline import Pipeline\n",
        "from sklearn.ensemble import RandomForestClassifier\n",
        "from xgboost import XGBClassifier\n",
        "from sklearn.linear_model import LogisticRegression\n",
        "from sklearn.metrics import (\n",
        "    accuracy_score, classification_report, f1_score,\n",
        "    precision_score, recall_score, matthews_corrcoef, log_loss\n",
        ")\n",
        "import matplotlib.pyplot as plt\n",
        "import seaborn as sns\n",
        "from imblearn.pipeline import Pipeline as ImbPipeline\n",
        "from imblearn.combine import SMOTEENN\n",
        "from scipy.stats import randint, uniform\n",
        "\n",
        "\n",
        "\n",
        "\n",
        "\n",
        "\n",
        "\n",
        "\n",
        "\n",
        "\n",
        "\n",
        "\n",
        "\n"
      ]
    },
    {
      "cell_type": "code",
      "source": [
        "# Load data\n",
        "df_train = pd.read_csv(r'/content/customer_churn_dataset-training-master.csv')\n",
        "df_test = pd.read_csv(r'/content/customer_churn_dataset-testing-master.csv')"
      ],
      "metadata": {
        "id": "ktOiieg76AU9"
      },
      "execution_count": 5,
      "outputs": []
    },
    {
      "cell_type": "code",
      "source": [
        "df_train = df_train.dropna(subset=['Churn']).reset_index(drop=True)\n",
        "y_train = df_train['Churn']\n",
        "X_train = df_train.drop(columns=['Churn'])\n",
        "X_test = df_test.copy()\n",
        "\n",
        "if 'customerID' in X_train.columns:\n",
        "    X_train = X_train.drop(columns=['customerID'])\n",
        "    X_test = X_test.drop(columns=['customerID'])\n",
        "\n",
        "cat_cols = X_train.select_dtypes(include=['object']).columns.tolist()\n",
        "num_cols = X_train.select_dtypes(include=['number']).columns.tolist()\n",
        "\n",
        "target_preprocessor = ColumnTransformer([\n",
        "    ('num', StandardScaler(), num_cols),\n",
        "    ('cat', OneHotEncoder(handle_unknown='ignore'), cat_cols)\n",
        "])\n"
      ],
      "metadata": {
        "id": "E4-mUO6B6FX_"
      },
      "execution_count": 6,
      "outputs": []
    },
    {
      "cell_type": "code",
      "source": [
        "models = {\n",
        "    'RandomForest': (RandomForestClassifier(random_state=42), {\n",
        "        'clf__n_estimators': randint(50, 150),\n",
        "        'clf__max_depth': [None, 10]\n",
        "    }),\n",
        "    'XGBoost': (XGBClassifier(use_label_encoder=False, eval_metric='logloss', random_state=42), {\n",
        "        'clf__n_estimators': randint(50, 150),\n",
        "        'clf__max_depth': [3, 6],\n",
        "        'clf__learning_rate': uniform(0.05, 0.1)\n",
        "    }),\n",
        "    'LogisticRegression': (LogisticRegression(max_iter=1000, random_state=42), {\n",
        "        'clf__C': uniform(0.1, 1.0)\n",
        "    })\n",
        "}\n",
        "\n",
        "best_score = 0\n",
        "best_model = None\n",
        "results = []\n",
        "X_tr, X_val, y_tr, y_val = train_test_split(X_train, y_train, test_size=0.2, random_state=42, stratify=y_train)"
      ],
      "metadata": {
        "id": "dibq5NfX6FUm"
      },
      "execution_count": 7,
      "outputs": []
    },
    {
      "cell_type": "code",
      "source": [
        "for name, (estimator, param_dist) in models.items():\n",
        "    pipe = ImbPipeline([\n",
        "        ('pre', target_preprocessor),\n",
        "        ('smoteenn', SMOTEENN(random_state=42, sampling_strategy='auto')),\n",
        "        ('clf', estimator)\n",
        "    ])\n",
        "\n",
        "    grid = RandomizedSearchCV(pipe, param_distributions=param_dist, n_iter=5, cv=3,\n",
        "                              scoring='accuracy', n_jobs=-1, random_state=42)\n",
        "    grid.fit(X_tr, y_tr)\n",
        "    val_preds = grid.predict(X_val)\n",
        "\n",
        "    acc = accuracy_score(y_val, val_preds)\n",
        "    f1 = f1_score(y_val, val_preds)\n",
        "    precision = precision_score(y_val, val_preds)\n",
        "    recall = recall_score(y_val, val_preds)\n",
        "    mcc = matthews_corrcoef(y_val, val_preds)\n",
        "    logloss = log_loss(y_val, grid.predict_proba(X_val))\n",
        "\n",
        "    print(f\"{name} validation metrics with SMOTEENN:\")\n",
        "    print(f\"  Accuracy : {acc:.4f}\")\n",
        "    print(f\"  Precision: {precision:.4f}\")\n",
        "    print(f\"  Recall   : {recall:.4f}\")\n",
        "    print(f\"  F1-score : {f1:.4f}\")\n",
        "    print(f\"  MCC      : {mcc:.4f}\")\n",
        "    print(f\"  Log Loss : {logloss:.4f}\")\n",
        "\n",
        "    results.append({\n",
        "        'Model': name,\n",
        "        'Accuracy': acc,\n",
        "        'Precision': precision,\n",
        "        'Recall': recall,\n",
        "        'F1': f1,\n",
        "        'MCC': mcc,\n",
        "        'Log Loss': logloss\n",
        "    })\n",
        "\n",
        "    if acc > best_score:\n",
        "        best_score = acc\n",
        "        best_model = grid.best_estimator_"
      ],
      "metadata": {
        "colab": {
          "base_uri": "https://localhost:8080/"
        },
        "id": "4mA1XgZj6FR4",
        "outputId": "11fc4fa9-ae7a-4a0e-8fb6-1768952ff270"
      },
      "execution_count": 8,
      "outputs": [
        {
          "output_type": "stream",
          "name": "stdout",
          "text": [
            "RandomForest validation metrics with SMOTEENN:\n",
            "  Accuracy : 0.9975\n",
            "  Precision: 0.9966\n",
            "  Recall   : 0.9989\n",
            "  F1-score : 0.9978\n",
            "  MCC      : 0.9949\n",
            "  Log Loss : 0.0062\n"
          ]
        },
        {
          "output_type": "stream",
          "name": "stderr",
          "text": [
            "/usr/local/lib/python3.11/dist-packages/xgboost/training.py:183: UserWarning: [08:45:52] WARNING: /workspace/src/learner.cc:738: \n",
            "Parameters: { \"use_label_encoder\" } are not used.\n",
            "\n",
            "  bst.update(dtrain, iteration=i, fobj=obj)\n"
          ]
        },
        {
          "output_type": "stream",
          "name": "stdout",
          "text": [
            "XGBoost validation metrics with SMOTEENN:\n",
            "  Accuracy : 0.9973\n",
            "  Precision: 0.9973\n",
            "  Recall   : 0.9979\n",
            "  F1-score : 0.9976\n",
            "  MCC      : 0.9945\n",
            "  Log Loss : 0.0074\n",
            "LogisticRegression validation metrics with SMOTEENN:\n",
            "  Accuracy : 0.9804\n",
            "  Precision: 0.9868\n",
            "  Recall   : 0.9785\n",
            "  F1-score : 0.9826\n",
            "  MCC      : 0.9601\n",
            "  Log Loss : 0.0723\n"
          ]
        }
      ]
    },
    {
      "cell_type": "code",
      "source": [
        "print(f\"\\nBest model with SMOTEENN: {best_model.named_steps['clf'].__class__.__name__} with accuracy {best_score:.4f}\")\n",
        "\n",
        "# Retrain best model\n",
        "best_model.fit(X_train, y_train)\n",
        "test_preds = best_model.predict(X_test)\n",
        "customer_ids = df_test['customerID'] if 'customerID' in df_test.columns else pd.Series(range(len(test_preds)))\n",
        "output = pd.DataFrame({'customerID': customer_ids, 'Churn': test_preds})\n",
        "output.to_csv('churn_predictions_smoteenn.csv', index=False)\n",
        "print(\"Saved predictions to 'churn_predictions_smoteenn.csv'\")\n",
        "\n"
      ],
      "metadata": {
        "colab": {
          "base_uri": "https://localhost:8080/"
        },
        "id": "GBecQ9HJ6FPM",
        "outputId": "e7e6fcf8-3b9d-4ac1-9ee7-3d01c32b4b7a"
      },
      "execution_count": 9,
      "outputs": [
        {
          "output_type": "stream",
          "name": "stdout",
          "text": [
            "\n",
            "Best model with SMOTEENN: RandomForestClassifier with accuracy 0.9975\n",
            "Saved predictions to 'churn_predictions_smoteenn.csv'\n",
            "Generating SHAP plots...\n",
            "SHAP failed with error: Only model_output=\"raw\" is supported for feature_perturbation=\"tree_path_dependent\"\n"
          ]
        }
      ]
    },
    {
      "cell_type": "code",
      "source": [
        "print(\"Generating SHAP plots...\")\n",
        "\n",
        "X_train_transformed = best_model.named_steps['pre'].transform(X_train)\n",
        "X_test_transformed = best_model.named_steps['pre'].transform(X_test)\n",
        "feature_names_transformed = best_model.named_steps['pre'].get_feature_names_out()\n",
        "classifier = best_model.named_steps['clf']\n",
        "\n",
        "shap_input = X_test_transformed[:5]\n",
        "\n",
        "try:\n",
        "    if isinstance(classifier, (RandomForestClassifier, XGBClassifier)):\n",
        "        explainer = shap.TreeExplainer(classifier)\n",
        "        shap_values = explainer.shap_values(shap_input)\n",
        "\n",
        "        # Handle binary classification\n",
        "        if isinstance(shap_values, list) and len(shap_values) == 2:\n",
        "            shap_values_to_plot = shap_values[1]\n",
        "            base_val = explainer.expected_value[1]\n",
        "        else:\n",
        "            shap_values_to_plot = shap_values\n",
        "            base_val = explainer.expected_value\n",
        "\n",
        "        # Summary plot\n",
        "        shap.summary_plot(shap_values_to_plot, shap_input, feature_names=feature_names_transformed)\n",
        "\n",
        "        # Waterfall plot (only first sample)\n",
        "        shap.plots.waterfall(shap.Explanation(\n",
        "            values=shap_values_to_plot[0],\n",
        "            base_values=base_val,\n",
        "            data=shap_input[0],\n",
        "            feature_names=feature_names_transformed\n",
        "        ))\n",
        "\n",
        "    else:\n",
        "        print(\"SHAP skipped: KernelExplainer is too slow for LogisticRegression.\")\n",
        "        if hasattr(classifier, 'coef_'):\n",
        "            importance = np.abs(classifier.coef_[0])\n",
        "            feat_imp_df = pd.DataFrame({\n",
        "                'Feature': feature_names_transformed,\n",
        "                'Importance': importance\n",
        "            }).sort_values(by='Importance', ascending=False)\n",
        "\n",
        "            plt.figure(figsize=(10, 6))\n",
        "            sns.barplot(data=feat_imp_df.head(10), x='Importance', y='Feature')\n",
        "            plt.title('Top 10 Logistic Regression Feature Importances')\n",
        "            plt.tight_layout()\n",
        "            plt.show()\n",
        "except Exception as e:\n",
        "    print(f\"SHAP failed with error: {e}\")\n"
      ],
      "metadata": {
        "colab": {
          "base_uri": "https://localhost:8080/",
          "height": 736
        },
        "id": "gayswdwISou6",
        "outputId": "f8dad6c0-fb70-4c22-bf7b-f17c91feb6be"
      },
      "execution_count": 13,
      "outputs": [
        {
          "output_type": "stream",
          "name": "stdout",
          "text": [
            "Generating SHAP plots...\n"
          ]
        },
        {
          "output_type": "display_data",
          "data": {
            "text/plain": [
              "<Figure size 640x480 with 0 Axes>"
            ]
          },
          "metadata": {}
        },
        {
          "output_type": "display_data",
          "data": {
            "text/plain": [
              "<Figure size 1150x660 with 1 Axes>"
            ],
            "image/png": "[encoded data removed]"
          },
          "metadata": {}
        },
        {
          "output_type": "stream",
          "name": "stdout",
          "text": [
            "SHAP failed with error: The waterfall plot can currently only plot a single explanation, but a matrix of explanations (shape (16, 2)) was passed! Perhaps try `shap.plots.waterfall(shap_values[0])` or for multi-output models, try `shap.plots.waterfall(shap_values[0, 0])`.\n"
          ]
        }
      ]
    },
    {
      "cell_type": "code",
      "source": [
        "# Model Comparison Plot\n",
        "results_df = pd.DataFrame(results)\n",
        "metrics_to_plot = ['Accuracy', 'Precision', 'Recall', 'F1', 'MCC', 'Log Loss']\n",
        "melted_df = results_df.melt(id_vars='Model', value_vars=metrics_to_plot, var_name='Metric', value_name='Score')\n",
        "\n",
        "plt.figure(figsize=(12, 6))\n",
        "sns.barplot(data=melted_df, x='Metric', y='Score', hue='Model')\n",
        "plt.title('Model Performance Comparison with SMOTEENN')\n",
        "plt.ylim(0, 1.1)\n",
        "plt.legend(title='Model')\n",
        "plt.tight_layout()\n",
        "plt.show()\n"
      ],
      "metadata": {
        "colab": {
          "base_uri": "https://localhost:8080/",
          "height": 569
        },
        "id": "fgf5lAdD6FMx",
        "outputId": "c6401739-2ef6-410e-c1f7-ac6ad3450408"
      },
      "execution_count": 10,
      "outputs": [
        {
          "output_type": "display_data",
          "data": {
            "text/plain": [
              "<Figure size 1200x600 with 1 Axes>"
            ],
            "image/png": "[encoded data removed]"
          },
          "metadata": {}
        }
      ]
    },
    {
      "cell_type": "code",
      "source": [],
      "metadata": {
        "id": "6CQ-G8sd6FKS"
      },
      "execution_count": null,
      "outputs": []
    },
    {
      "cell_type": "code",
      "source": [],
      "metadata": {
        "id": "m469t3TQ6FHk"
      },
      "execution_count": null,
      "outputs": []
    },
    {
      "cell_type": "code",
      "source": [],
      "metadata": {
        "id": "UHxN3Xif6EaW"
      },
      "execution_count": null,
      "outputs": []
    }
  ]
}